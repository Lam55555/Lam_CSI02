{
 "cells": [
  {
   "cell_type": "markdown",
   "metadata": {
    "id": "hUYvpLbMjUG1"
   },
   "source": [
    "## <center>Computer Science Intensive Course - MindX</center>\n",
    "![](./assets/logo.png)\n",
    "# <center>HOMEWORK 4. THUẬT TOÁN TÌM KIẾM</center>"
   ]
  },
  {
   "cell_type": "markdown",
   "metadata": {
    "id": "zhtkcjlijUG2"
   },
   "source": [
    "## Bài Tập: Tìm Hàng\n",
    "\n",
    "Một siêu thị lưu danh sách các mặt hàng dưới dạng *list*, mỗi mặt hàng là một *dictionary* như sau:  \n",
    "&nbsp;&nbsp;&nbsp;{\"id\": 354, \"name\": \"Vinamilk Icecream\", \"price\": 35000}  \n",
    "\n",
    "Cho danh sách mặt hàng đã được sắp xếp theo giá từ lớn đến nhỏ, hãy tìm tất cả mặt hàng có giá tiền *p* được nhập.  \n",
    "\n",
    "**Input**: Danh sách các mặt hàng và giá tiền *p* cần tìm.  \n",
    "**Output**: Danh sách các mặt hàng có giá tiền *p*, hoặc \"Not found\".  \n",
    "**Ví dụ**:  \n",
    "- Input: *sample_input_list*, p = 20000\n",
    "- Output: *sample_output_list*"
   ]
  },
  {
   "cell_type": "code",
   "execution_count": null,
   "metadata": {
    "id": "lKQFFOb3jUG3"
   },
   "outputs": [],
   "source": [
    "products = [\n",
    "    {\n",
    "        \"ID\" : 105,\n",
    "        \"name\": \"Apple\",\n",
    "        \"price\": 30000,\n",
    "    },\n",
    "\n",
    "    {\n",
    "        \"ID\" : 106,\n",
    "        \"name\": \"Coca-Cola\",\n",
    "        \"price\": 25000,\n",
    "    },\n",
    "\n",
    "    {\n",
    "        \"ID\" : 107,\n",
    "        \"name\": \"Instant Noodles\",\n",
    "        \"price\": 10000,\n",
    "\n",
    "    },\n",
    "\n",
    "    {\n",
    "        \"ID\" : 108,\n",
    "        \"name\": \"Rice\",\n",
    "        \"price\": 40000,\n",
    "\n",
    "    },\n",
    "\n",
    "    {\n",
    "        \"ID\" : 109,\n",
    "        \"name\": \"Snack\",\n",
    "        \"price\": 40000,\n",
    "\n",
    "    }\n",
    "]\n",
    "\n",
    "products.sort(key=lambda x: x['price'], reverse=True)\n",
    "price = int(input(\"Nhap so tien can tim: \"))\n",
    "\n",
    "def find_products(products, p):\n",
    "    tim_sp = [x for x in products if x[\"price\"] == p]\n",
    "    if tim_sp:\n",
    "        return tim_sp\n",
    "    else:\n",
    "        return \"khong tim thay\"\n",
    "\n",
    "print(find_products(products,price))"
   ]
  }
 ],
 "metadata": {
  "colab": {
   "provenance": []
  },
  "kernelspec": {
   "display_name": "Python 3",
   "language": "python",
   "name": "python3"
  },
  "language_info": {
   "codemirror_mode": {
    "name": "ipython",
    "version": 3
   },
   "file_extension": ".py",
   "mimetype": "text/x-python",
   "name": "python",
   "nbconvert_exporter": "python",
   "pygments_lexer": "ipython3",
   "version": "3.8.3"
  }
 },
 "nbformat": 4,
 "nbformat_minor": 0
}
