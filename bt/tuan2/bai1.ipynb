{
 "cells": [
  {
   "cell_type": "code",
   "execution_count": 8,
   "metadata": {},
   "outputs": [
    {
     "name": "stdout",
     "output_type": "stream",
     "text": [
      "[[1, 4], [2, 3], [5]]\n"
     ]
    }
   ],
   "source": [
    "def find_groups(n, arr, k):\n",
    "    result = []  # Danh sách lưu các nhóm thỏa mãn\n",
    "    current_group = []  # Nhóm hiện tại đang duyệt\n",
    "\n",
    "    def backtrack(index, current_sum):\n",
    "        # Nếu tổng bằng k, lưu nhóm hiện tại\n",
    "        if current_sum == k:\n",
    "            result.append(list(current_group))\n",
    "            return\n",
    "\n",
    "        # Nếu vượt qua chỉ số cuối cùng hoặc tổng vượt k, dừng nhánh\n",
    "        if index >= n or current_sum > k:\n",
    "            return\n",
    "\n",
    "        # Thêm phần tử hiện tại vào nhóm\n",
    "        current_group.append(arr[index])\n",
    "        backtrack(index + 1, current_sum + arr[index])  # Duyệt tiếp\n",
    "\n",
    "        # Bỏ phần tử hiện tại ra khỏi nhóm (Backtrack)\n",
    "        current_group.pop()\n",
    "        backtrack(index + 1, current_sum)  # Duyệt tiếp mà không chọn phần tử này\n",
    "\n",
    "    # Bắt đầu duyệt từ chỉ số 0\n",
    "    backtrack(0, 0)\n",
    "\n",
    "    # Nếu không có kết quả, trả về -1\n",
    "    if not result:\n",
    "        return -1\n",
    "\n",
    "    return result\n",
    "\n",
    "\n",
    "# Input\n",
    "n = 5\n",
    "arr = [1, 2, 3, 4, 5]\n",
    "k = 5\n",
    "\n",
    "# Output\n",
    "output = find_groups(n, arr, k)\n",
    "print(output)\n"
   ]
  }
 ],
 "metadata": {
  "kernelspec": {
   "display_name": "Python 3",
   "language": "python",
   "name": "python3"
  },
  "language_info": {
   "codemirror_mode": {
    "name": "ipython",
    "version": 3
   },
   "file_extension": ".py",
   "mimetype": "text/x-python",
   "name": "python",
   "nbconvert_exporter": "python",
   "pygments_lexer": "ipython3",
   "version": "3.12.2"
  }
 },
 "nbformat": 4,
 "nbformat_minor": 2
}
