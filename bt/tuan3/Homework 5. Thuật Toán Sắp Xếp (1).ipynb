{
 "cells": [
  {
   "cell_type": "markdown",
   "metadata": {
    "id": "TPQtDlCuN0iL"
   },
   "source": [
    "## <center>Computer Science Intensive Course - MindX</center>\n",
    "![](./assets/logo.png)\n",
    "# <center>HOMEWORK 5. THUẬT TOÁN SẮP XẾP (1)</center>"
   ]
  },
  {
   "cell_type": "markdown",
   "metadata": {
    "id": "U82ifRzZN0iM"
   },
   "source": [
    "## Bài Tập: Danh Sách Từ\n",
    "\n",
    "Cho danh sách 100 từ tiếng Anh thông dụng nhất, mỗi từ cách nhau bằng một dấu cách. Hãy sắp xếp danh sách trên theo quy tắc sau:\n",
    "- Từ có ít chữ cái hơn đứng trước\n",
    "- Nếu hai từ có cùng số chữ cái, từ nào có thứ tự nhỏ hơn trong bảng chữ cái đứng trước (dùng phép so sánh < hoặc > trên *string*)  \n",
    "\n",
    "**Input**: *most_common_100*  \n",
    "**Output**: Một *string* với cùng định dạng, nhưng các từ được sắp xếp theo quy tắc như trên."
   ]
  },
  {
   "cell_type": "code",
   "execution_count": null,
   "metadata": {
    "id": "f6RJ86E6N0iO"
   },
   "outputs": [],
   "source": [
    "chuoi = str(input(\"Nhap tu Tieng Anh: \")).lower()\n",
    "def s_word(chuoi):\n",
    "    word = chuoi.split()\n",
    "    for i in range(len(word)):\n",
    "        for j in range(i+1, len(word)):\n",
    "            if len(word[i]) > len(word[j]):\n",
    "                word[i], word[j] = word[j], word[i]\n",
    "            elif len(word[i]) == len(word[j]):\n",
    "                if word[i] > word[j]:\n",
    "                    word[i], word[j] = word[j], word[i]\n",
    "    return word\n",
    "print(s_word(chuoi))"
   ]
  }
 ],
 "metadata": {
  "colab": {
   "provenance": []
  },
  "kernelspec": {
   "display_name": "Python 3",
   "language": "python",
   "name": "python3"
  },
  "language_info": {
   "codemirror_mode": {
    "name": "ipython",
    "version": 3
   },
   "file_extension": ".py",
   "mimetype": "text/x-python",
   "name": "python",
   "nbconvert_exporter": "python",
   "pygments_lexer": "ipython3",
   "version": "3.12.2"
  }
 },
 "nbformat": 4,
 "nbformat_minor": 0
}
